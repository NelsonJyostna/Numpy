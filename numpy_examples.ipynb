{
 "cells": [
  {
   "cell_type": "markdown",
   "metadata": {},
   "source": [
    "# NumPy\n",
    "\n",
    "numpy is python's package for doing math that is more advanced than +-*/\n",
    "\n",
    "This includes special functions like cosine, exponential, sqrt, ...\n",
    "\n",
    "On top of this we can use numpy to generate samples from many types of random variables\n",
    "\n",
    "numpy also has a powerful data type to define vectors, matrices, and tensors\n",
    "\n",
    "With these data types numpy also allows us to do linear algebra - matrix multiplication and matrix-vector solutions"
   ]
  },
  {
   "cell_type": "code",
   "execution_count": 3,
   "metadata": {},
   "outputs": [],
   "source": [
    "# the first step of using numpy is to tell python to use it\n",
    "import numpy as np"
   ]
  },
  {
   "cell_type": "code",
   "execution_count": 4,
   "metadata": {},
   "outputs": [
    {
     "name": "stdout",
     "output_type": "stream",
     "text": [
      "-1.0\n",
      "1.1\n",
      "5.2\n"
     ]
    }
   ],
   "source": [
    "print(np.cos(np.pi))\n",
    "print(np.sqrt(1.21))\n",
    "print(np.log(np.exp(5.2)))"
   ]
  },
  {
   "cell_type": "code",
   "execution_count": 5,
   "metadata": {},
   "outputs": [
    {
     "name": "stdout",
     "output_type": "stream",
     "text": [
      "[1 2 3]\n",
      "\n",
      "[[1 2 1]\n",
      " [4 5 9]\n",
      " [1 8 9]]\n",
      "\n",
      "[[1 4 1]\n",
      " [2 5 8]\n",
      " [1 9 9]]\n"
     ]
    }
   ],
   "source": [
    "# we can create numpy arrays by converting lists\n",
    "# this is a vector\n",
    "vec = np.array([1,2,3])\n",
    "print(vec)\n",
    "# we can create matrices by converting lists of lists\n",
    "mat = np.array([[1,2,1],[4,5,9],[1,8,9]])\n",
    "print('')\n",
    "print(mat)\n",
    "print('')\n",
    "print(mat.T)"
   ]
  },
  {
   "cell_type": "code",
   "execution_count": 6,
   "metadata": {},
   "outputs": [
    {
     "name": "stdout",
     "output_type": "stream",
     "text": [
      "[ 0  1  2  3  4  5  6  7  8  9 10 11 12 13 14]\n",
      "\n",
      "[ 3  9 15]\n"
     ]
    }
   ],
   "source": [
    "# there are lots of other ways to create numpy arrays\n",
    "vec2 = np.arange(0,15)\n",
    "print(vec2)\n",
    "print('')\n",
    "vec3 = np.arange(3,21,6)\n",
    "print(vec3)\n"
   ]
  },
  {
   "cell_type": "code",
   "execution_count": 7,
   "metadata": {},
   "outputs": [
    {
     "name": "stdout",
     "output_type": "stream",
     "text": [
      "[0.         0.55555556 1.11111111 1.66666667 2.22222222 2.77777778\n",
      " 3.33333333 3.88888889 4.44444444 5.        ]\n",
      "\n",
      "[[0.         0.55555556]\n",
      " [1.11111111 1.66666667]\n",
      " [2.22222222 2.77777778]\n",
      " [3.33333333 3.88888889]\n",
      " [4.44444444 5.        ]]\n",
      "[[0.         0.55555556]\n",
      " [1.11111111 1.66666667]\n",
      " [2.22222222 2.77777778]\n",
      " [3.33333333 3.88888889]\n",
      " [4.44444444 5.        ]]\n",
      "[0.         0.55555556 1.11111111 1.66666667 2.22222222 2.77777778\n",
      " 3.33333333 3.88888889 4.44444444 5.        ]\n"
     ]
    }
   ],
   "source": [
    "\n",
    "vec4 = np.linspace(0,5,10)\n",
    "print(vec4)\n",
    "print('')\n",
    "print(vec4.reshape(5,2))\n",
    "vec4_reshaped = vec4.reshape(5,2)\n",
    "print(vec4_reshaped)\n",
    "print(vec4)"
   ]
  },
  {
   "cell_type": "code",
   "execution_count": 8,
   "metadata": {},
   "outputs": [
    {
     "name": "stdout",
     "output_type": "stream",
     "text": [
      "[[0. 0. 0.]\n",
      " [0. 0. 0.]\n",
      " [0. 0. 0.]\n",
      " [0. 0. 0.]\n",
      " [0. 0. 0.]]\n",
      "\n",
      "[[1. 1. 1. 1. 1.]\n",
      " [1. 1. 1. 1. 1.]\n",
      " [1. 1. 1. 1. 1.]]\n",
      "\n",
      "[[1. 0. 0. 0. 0.]\n",
      " [0. 1. 0. 0. 0.]\n",
      " [0. 0. 1. 0. 0.]\n",
      " [0. 0. 0. 1. 0.]\n",
      " [0. 0. 0. 0. 1.]]\n"
     ]
    }
   ],
   "source": [
    "mat2 = np.zeros([5,3])\n",
    "print(mat2)\n",
    "mat3 = np.ones((3,5))\n",
    "print('')\n",
    "print(mat3)\n",
    "mat4 = np.eye(5)\n",
    "print('')\n",
    "print(mat4)"
   ]
  },
  {
   "cell_type": "code",
   "execution_count": 9,
   "metadata": {},
   "outputs": [
    {
     "name": "stdout",
     "output_type": "stream",
     "text": [
      "[1 2 3 4 5]\n",
      "[3 4 5 6 7]\n",
      "[ 4  6  8 10 12]\n",
      "[ 3  8 15 24 35]\n",
      "[1.         0.5        0.33333333 0.25       0.2       ]\n",
      "[1.73205081 2.         2.23606798 2.44948974 2.64575131]\n"
     ]
    }
   ],
   "source": [
    "# we can +-*/ arrays together if they're the right size\n",
    "vec5 = np.arange(1,6)\n",
    "vec6 = np.arange(3,8)\n",
    "print(vec5)\n",
    "print(vec6)\n",
    "print(vec5+vec6)\n",
    "print(vec5*vec6)\n",
    "print(1/vec5)\n",
    "print(np.sqrt(vec6))"
   ]
  },
  {
   "cell_type": "code",
   "execution_count": 10,
   "metadata": {},
   "outputs": [
    {
     "name": "stdout",
     "output_type": "stream",
     "text": [
      "[[1 2 1]\n",
      " [4 5 9]\n",
      " [1 8 9]]\n",
      "\n",
      "[1 2 3]\n",
      "\n",
      "[ 8 41 44]\n"
     ]
    }
   ],
   "source": [
    "# we can do matrix multiplication\n",
    "print(mat)\n",
    "print('')\n",
    "print(vec)\n",
    "print()\n",
    "product = np.matmul(mat,vec)\n",
    "print(product)"
   ]
  },
  {
   "cell_type": "code",
   "execution_count": 11,
   "metadata": {},
   "outputs": [
    {
     "name": "stdout",
     "output_type": "stream",
     "text": [
      "[1. 2. 3.]\n",
      "\n",
      "[[ 0.5         0.18518519 -0.24074074]\n",
      " [ 0.5        -0.14814815  0.09259259]\n",
      " [-0.5         0.11111111  0.05555556]]\n"
     ]
    }
   ],
   "source": [
    "print(np.linalg.solve(mat,product))\n",
    "print('')\n",
    "print(np.linalg.inv(mat))"
   ]
  },
  {
   "cell_type": "code",
   "execution_count": 12,
   "metadata": {},
   "outputs": [
    {
     "name": "stdout",
     "output_type": "stream",
     "text": [
      "['blue' 'red' 'orange' 'purple' 'purple' 'orange' 'Red' '6']\n",
      "['6' 'Red' 'blue' 'orange' 'purple' 'red']\n"
     ]
    }
   ],
   "source": [
    "# we can find the unique values in an array\n",
    "vec7 = np.array(['blue','red','orange','purple','purple','orange','Red',6])\n",
    "print(vec7)\n",
    "print(np.unique(vec7))"
   ]
  },
  {
   "cell_type": "code",
   "execution_count": 5,
   "metadata": {},
   "outputs": [
    {
     "name": "stdout",
     "output_type": "stream",
     "text": [
      "[[0.72701945 0.97351345 0.62515315 0.58160225 0.10455136]\n",
      " [0.71222172 0.09936295 0.8436925  0.37612595 0.47876814]\n",
      " [0.94488825 0.01936594 0.87947985 0.76456747 0.3308887 ]\n",
      " [0.26536195 0.55277695 0.3938248  0.69210543 0.57275651]\n",
      " [0.60506027 0.60274286 0.69579936 0.71850699 0.67638926]]\n",
      "\n",
      "[[-1.38205835  0.6420495  -0.6743927  -1.18660804  0.59370605]\n",
      " [ 0.76826428  0.96879326  1.04324868 -1.00551435  2.03643188]\n",
      " [-1.75564675 -0.21043693  1.81143486  0.35541523 -1.0803877 ]\n",
      " [-1.16448852  0.71227267  1.25401717 -0.75110403  0.7587289 ]\n",
      " [ 0.21599161 -0.69175183 -0.65594961  0.0239917  -0.29559189]\n",
      " [-1.01749062  0.4737998   1.77709976 -1.10001107  0.38495929]\n",
      " [ 0.78527168  0.924605   -0.70613982 -1.18556873  0.84676375]\n",
      " [ 0.7704146  -0.68563045 -0.95261198  0.46021352 -0.47790834]\n",
      " [ 1.69212654 -1.38371059  0.64647422  0.99727198 -1.01421262]\n",
      " [-0.6168112  -0.09592171 -0.03952005 -1.07234365 -0.24003902]]\n"
     ]
    }
   ],
   "source": [
    "# we can also use numpy to generate samples of a random variable\n",
    "rand_mat = np.random.rand(5,5) # uniform random variable\n",
    "print(rand_mat)\n",
    "rand_mat2 = np.random.randn(10,5) # standard normal random variable\n",
    "print('')\n",
    "print(rand_mat2)"
   ]
  },
  {
   "cell_type": "code",
   "execution_count": 14,
   "metadata": {},
   "outputs": [
    {
     "name": "stdout",
     "output_type": "stream",
     "text": [
      "0.5554073969525004\n",
      "1.0472600814215451\n"
     ]
    }
   ],
   "source": [
    "# we can also use numpy for statistical tools on arrays\n",
    "print(np.mean(rand_mat))\n",
    "print(np.std(rand_mat2))"
   ]
  },
  {
   "cell_type": "code",
   "execution_count": 15,
   "metadata": {},
   "outputs": [
    {
     "name": "stdout",
     "output_type": "stream",
     "text": [
      "0.02110895910945476\n",
      "2.1259170645305243\n"
     ]
    }
   ],
   "source": [
    "print(np.min(rand_mat))\n",
    "print(np.max(rand_mat2))"
   ]
  },
  {
   "cell_type": "code",
   "execution_count": 16,
   "metadata": {},
   "outputs": [],
   "source": [
    "# break here for next video!"
   ]
  },
  {
   "cell_type": "code",
   "execution_count": 17,
   "metadata": {},
   "outputs": [
    {
     "name": "stdout",
     "output_type": "stream",
     "text": [
      "[ 0.94028947  0.60000398  1.41285855 -1.5134235  -0.88021491  0.94135611\n",
      " -1.80239683  0.66629612 -1.01911151  0.21159833 -1.03155549 -0.85369276\n",
      "  0.2238648  -0.5560198   1.12184982  1.25141177 -0.82040704  1.2201986\n",
      " -0.08866664]\n",
      "-1.8023968291899437\n"
     ]
    }
   ],
   "source": [
    "# how do we access entries in a numpy vector\n",
    "rand_vec = np.random.randn(19)\n",
    "print(rand_vec)\n",
    "print(rand_vec[6])"
   ]
  },
  {
   "cell_type": "code",
   "execution_count": 18,
   "metadata": {},
   "outputs": [
    {
     "name": "stdout",
     "output_type": "stream",
     "text": [
      "[-0.88021491  0.94135611 -1.80239683  0.66629612 -1.01911151]\n"
     ]
    }
   ],
   "source": [
    "# we can access multiple entries at once using :\n",
    "print(rand_vec[4:9])"
   ]
  },
  {
   "cell_type": "code",
   "execution_count": 19,
   "metadata": {},
   "outputs": [
    {
     "name": "stdout",
     "output_type": "stream",
     "text": [
      "[ 0  3  6  9 12]\n",
      "[ 0.94028947 -1.5134235  -1.80239683  0.21159833  0.2238648 ]\n"
     ]
    }
   ],
   "source": [
    "# we can also access multiple non-consecutive entries using np.arange\n",
    "print(np.arange(0,15,3))\n",
    "print(rand_vec[np.arange(0,15,3)])"
   ]
  },
  {
   "cell_type": "code",
   "execution_count": 20,
   "metadata": {},
   "outputs": [
    {
     "name": "stdout",
     "output_type": "stream",
     "text": [
      "[[0.95460613 0.47729939 0.11738834 0.02110896 0.05133451]\n",
      " [0.12904    0.85419409 0.22023835 0.75901833 0.05471215]\n",
      " [0.43330101 0.06016668 0.8543437  0.7402433  0.96687139]\n",
      " [0.36714662 0.93693197 0.89404087 0.86315755 0.38816278]\n",
      " [0.64814517 0.761626   0.84733851 0.9292506  0.55551853]]\n",
      "0.22023834980968215\n",
      "0.22023834980968215\n"
     ]
    }
   ],
   "source": [
    "# what about matrices\n",
    "print(rand_mat)\n",
    "print(rand_mat[1][2])\n",
    "print(rand_mat[1,2])\n"
   ]
  },
  {
   "cell_type": "code",
   "execution_count": 21,
   "metadata": {},
   "outputs": [
    {
     "name": "stdout",
     "output_type": "stream",
     "text": [
      "[[0.47729939 0.11738834]\n",
      " [0.85419409 0.22023835]]\n"
     ]
    }
   ],
   "source": [
    "print(rand_mat[0:2,1:3])"
   ]
  },
  {
   "cell_type": "code",
   "execution_count": 22,
   "metadata": {},
   "outputs": [
    {
     "name": "stdout",
     "output_type": "stream",
     "text": [
      "[ 0.94028947  0.60000398  1.41285855 -1.5134235  -0.88021491  0.94135611\n",
      " -1.80239683  0.66629612 -1.01911151  0.21159833 -1.03155549 -0.85369276\n",
      "  0.2238648  -0.5560198   1.12184982  1.25141177 -0.82040704  1.2201986\n",
      " -0.08866664]\n",
      "\n",
      "[ 0.94028947  0.60000398  1.41285855  4.          4.          0.94135611\n",
      " -1.80239683  0.66629612 -1.01911151  0.21159833 -1.03155549 -0.85369276\n",
      "  0.2238648  -0.5560198   1.12184982  1.25141177 -0.82040704  1.2201986\n",
      " -0.08866664]\n",
      "\n",
      "[ 0.94028947  0.60000398  1.41285855  1.          2.          0.94135611\n",
      " -1.80239683  0.66629612 -1.01911151  0.21159833 -1.03155549 -0.85369276\n",
      "  0.2238648  -0.5560198   1.12184982  1.25141177 -0.82040704  1.2201986\n",
      " -0.08866664]\n"
     ]
    }
   ],
   "source": [
    "# let's change some values in an array!\n",
    "print(rand_vec)\n",
    "rand_vec[3:5] = 4\n",
    "print('')\n",
    "print(rand_vec)\n",
    "rand_vec[3:5] = [1,2]\n",
    "print('')\n",
    "print(rand_vec)"
   ]
  },
  {
   "cell_type": "code",
   "execution_count": 23,
   "metadata": {},
   "outputs": [
    {
     "name": "stdout",
     "output_type": "stream",
     "text": [
      "[[0.95460613 0.47729939 0.11738834 0.02110896 0.05133451]\n",
      " [0.12904    0.85419409 0.22023835 0.75901833 0.05471215]\n",
      " [0.43330101 0.06016668 0.8543437  0.7402433  0.96687139]\n",
      " [0.36714662 0.93693197 0.89404087 0.86315755 0.38816278]\n",
      " [0.64814517 0.761626   0.84733851 0.9292506  0.55551853]]\n",
      "\n",
      "[[0.95460613 0.47729939 0.11738834 0.02110896 0.05133451]\n",
      " [0.12904    0.85419409 0.22023835 0.         0.        ]\n",
      " [0.43330101 0.06016668 0.8543437  0.         0.        ]\n",
      " [0.36714662 0.93693197 0.89404087 0.86315755 0.38816278]\n",
      " [0.64814517 0.761626   0.84733851 0.9292506  0.55551853]]\n"
     ]
    }
   ],
   "source": [
    "print(rand_mat)\n",
    "rand_mat[1:3,3:5] = 0\n",
    "print('')\n",
    "print(rand_mat)"
   ]
  },
  {
   "cell_type": "code",
   "execution_count": 24,
   "metadata": {},
   "outputs": [
    {
     "name": "stdout",
     "output_type": "stream",
     "text": [
      "[[0.95460613 0.47729939 0.11738834]\n",
      " [0.12904    0.85419409 0.22023835]]\n",
      "[[3. 3. 3.]\n",
      " [3. 3. 3.]]\n"
     ]
    }
   ],
   "source": [
    "sub_mat = rand_mat[0:2,0:3]\n",
    "print(sub_mat)\n",
    "sub_mat[:] = 3\n",
    "print(sub_mat)\n"
   ]
  },
  {
   "cell_type": "code",
   "execution_count": 25,
   "metadata": {},
   "outputs": [
    {
     "name": "stdout",
     "output_type": "stream",
     "text": [
      "[[3.         3.         3.         0.02110896 0.05133451]\n",
      " [3.         3.         3.         0.         0.        ]\n",
      " [0.43330101 0.06016668 0.8543437  0.         0.        ]\n",
      " [0.36714662 0.93693197 0.89404087 0.86315755 0.38816278]\n",
      " [0.64814517 0.761626   0.84733851 0.9292506  0.55551853]]\n"
     ]
    }
   ],
   "source": [
    "print(rand_mat)"
   ]
  },
  {
   "cell_type": "code",
   "execution_count": 26,
   "metadata": {},
   "outputs": [
    {
     "name": "stdout",
     "output_type": "stream",
     "text": [
      "[[99. 99. 99.]\n",
      " [99. 99. 99.]]\n",
      "[[3.         3.         3.         0.02110896 0.05133451]\n",
      " [3.         3.         3.         0.         0.        ]\n",
      " [0.43330101 0.06016668 0.8543437  0.         0.        ]\n",
      " [0.36714662 0.93693197 0.89404087 0.86315755 0.38816278]\n",
      " [0.64814517 0.761626   0.84733851 0.9292506  0.55551853]]\n"
     ]
    }
   ],
   "source": [
    "sub_mat2 = rand_mat[0:2,0:3].copy()\n",
    "sub_mat2[:] = 99\n",
    "print(sub_mat2)\n",
    "print(rand_mat)\n"
   ]
  },
  {
   "cell_type": "code",
   "execution_count": 27,
   "metadata": {},
   "outputs": [],
   "source": [
    "# break here for next video"
   ]
  },
  {
   "cell_type": "code",
   "execution_count": 28,
   "metadata": {},
   "outputs": [
    {
     "name": "stdout",
     "output_type": "stream",
     "text": [
      "[ 0.03559796 -0.62355608 -1.03070823  2.57382108  1.77600889 -1.20761361\n",
      " -0.81519466  0.80695994  0.07383944 -0.64224086  0.23079906 -1.11461499\n",
      " -0.91084784 -0.1664841   0.64371767]\n",
      "[ True False False  True  True False False  True  True False  True False\n",
      " False False  True]\n",
      "[0.03559796 2.57382108 1.77600889 0.80695994 0.07383944 0.23079906\n",
      " 0.64371767]\n"
     ]
    }
   ],
   "source": [
    "# we can also access entries with logicals\n",
    "rand_vec = np.random.randn(15)\n",
    "\n",
    "print(rand_vec)\n",
    "print(rand_vec>0)\n",
    "print(rand_vec[rand_vec>0])"
   ]
  },
  {
   "cell_type": "code",
   "execution_count": 29,
   "metadata": {},
   "outputs": [
    {
     "name": "stdout",
     "output_type": "stream",
     "text": [
      "[[-0.08008537 -0.29055657  0.45963565 -1.16412794  1.13433904]\n",
      " [ 0.4069099   0.10956186  0.56094992 -1.21980603  0.23271308]\n",
      " [-1.56306095  1.84375483  0.03661978  0.68510085 -1.49809723]\n",
      " [-0.0181263   2.12591706  0.69235765 -0.07709297  0.00832227]\n",
      " [-0.37910105  0.11229938  1.22418944  0.83978513 -0.65923094]\n",
      " [ 1.39297736  0.938927    1.68609064 -1.41408506 -1.50970979]\n",
      " [-1.50644832  0.05393733 -1.61339834 -0.72540804 -1.52853402]\n",
      " [-0.18149447 -0.52846656 -0.35904172 -0.24658416 -0.85929869]\n",
      " [-0.46462674 -0.65884971  0.15737554 -1.07947434  1.30137673]\n",
      " [ 1.77411311  0.07280053  1.88423463 -1.80702343  1.04223275]]\n",
      "[0.45963565 1.13433904 0.4069099  0.10956186 0.56094992 0.23271308\n",
      " 1.84375483 0.03661978 0.68510085 2.12591706 0.69235765 0.00832227\n",
      " 0.11229938 1.22418944 0.83978513 1.39297736 0.938927   1.68609064\n",
      " 0.05393733 0.15737554 1.30137673 1.77411311 0.07280053 1.88423463\n",
      " 1.04223275]\n"
     ]
    }
   ],
   "source": [
    "print(rand_mat2)\n",
    "print(rand_mat2[rand_mat2>0])"
   ]
  },
  {
   "cell_type": "code",
   "execution_count": 30,
   "metadata": {},
   "outputs": [
    {
     "name": "stdout",
     "output_type": "stream",
     "text": [
      "[ 0.03559796 -0.62355608 -1.03070823  2.57382108  1.77600889 -1.20761361\n",
      " -0.81519466  0.80695994  0.07383944 -0.64224086  0.23079906 -1.11461499\n",
      " -0.91084784 -0.1664841   0.64371767]\n",
      "\n",
      "[ 0.03559796 -0.62355608 -1.03070823 -5.         -5.         -1.20761361\n",
      " -0.81519466 -5.          0.07383944 -0.64224086  0.23079906 -1.11461499\n",
      " -0.91084784 -0.1664841  -5.        ]\n"
     ]
    }
   ],
   "source": [
    "\n",
    "print(rand_vec)\n",
    "print('')\n",
    "rand_vec[rand_vec>0.5] = -5\n",
    "print(rand_vec)"
   ]
  },
  {
   "cell_type": "code",
   "execution_count": 31,
   "metadata": {},
   "outputs": [],
   "source": [
    "# let's save some arrays on the disk for use later!\n",
    "np.save('saved_file_name',rand_mat2)\n"
   ]
  },
  {
   "cell_type": "code",
   "execution_count": 32,
   "metadata": {},
   "outputs": [],
   "source": [
    "np.savez('zipped_file_name',rand_mat=rand_mat,rand_mat2=rand_mat2)"
   ]
  },
  {
   "cell_type": "code",
   "execution_count": 33,
   "metadata": {},
   "outputs": [
    {
     "name": "stdout",
     "output_type": "stream",
     "text": [
      "[[-0.08008537 -0.29055657  0.45963565 -1.16412794  1.13433904]\n",
      " [ 0.4069099   0.10956186  0.56094992 -1.21980603  0.23271308]\n",
      " [-1.56306095  1.84375483  0.03661978  0.68510085 -1.49809723]\n",
      " [-0.0181263   2.12591706  0.69235765 -0.07709297  0.00832227]\n",
      " [-0.37910105  0.11229938  1.22418944  0.83978513 -0.65923094]\n",
      " [ 1.39297736  0.938927    1.68609064 -1.41408506 -1.50970979]\n",
      " [-1.50644832  0.05393733 -1.61339834 -0.72540804 -1.52853402]\n",
      " [-0.18149447 -0.52846656 -0.35904172 -0.24658416 -0.85929869]\n",
      " [-0.46462674 -0.65884971  0.15737554 -1.07947434  1.30137673]\n",
      " [ 1.77411311  0.07280053  1.88423463 -1.80702343  1.04223275]]\n",
      "\n",
      "<numpy.lib.npyio.NpzFile object at 0x000001FAD1B1B8C8>\n"
     ]
    }
   ],
   "source": [
    "# now let's load it\n",
    "loaded_vec = np.load('saved_file_name.npy')\n",
    "loaded_zip = np.load('zipped_file_name.npz')\n",
    "\n",
    "print(loaded_vec)\n",
    "print('')\n",
    "print(loaded_zip)"
   ]
  },
  {
   "cell_type": "code",
   "execution_count": 34,
   "metadata": {},
   "outputs": [
    {
     "name": "stdout",
     "output_type": "stream",
     "text": [
      "[[3.         3.         3.         0.02110896 0.05133451]\n",
      " [3.         3.         3.         0.         0.        ]\n",
      " [0.43330101 0.06016668 0.8543437  0.         0.        ]\n",
      " [0.36714662 0.93693197 0.89404087 0.86315755 0.38816278]\n",
      " [0.64814517 0.761626   0.84733851 0.9292506  0.55551853]]\n",
      "\n",
      "[[-0.08008537 -0.29055657  0.45963565 -1.16412794  1.13433904]\n",
      " [ 0.4069099   0.10956186  0.56094992 -1.21980603  0.23271308]\n",
      " [-1.56306095  1.84375483  0.03661978  0.68510085 -1.49809723]\n",
      " [-0.0181263   2.12591706  0.69235765 -0.07709297  0.00832227]\n",
      " [-0.37910105  0.11229938  1.22418944  0.83978513 -0.65923094]\n",
      " [ 1.39297736  0.938927    1.68609064 -1.41408506 -1.50970979]\n",
      " [-1.50644832  0.05393733 -1.61339834 -0.72540804 -1.52853402]\n",
      " [-0.18149447 -0.52846656 -0.35904172 -0.24658416 -0.85929869]\n",
      " [-0.46462674 -0.65884971  0.15737554 -1.07947434  1.30137673]\n",
      " [ 1.77411311  0.07280053  1.88423463 -1.80702343  1.04223275]]\n",
      "[[3.         3.         3.         0.02110896 0.05133451]\n",
      " [3.         3.         3.         0.         0.        ]\n",
      " [0.43330101 0.06016668 0.8543437  0.         0.        ]\n",
      " [0.36714662 0.93693197 0.89404087 0.86315755 0.38816278]\n",
      " [0.64814517 0.761626   0.84733851 0.9292506  0.55551853]]\n"
     ]
    }
   ],
   "source": [
    "print(loaded_zip['rand_mat'])\n",
    "print('')\n",
    "print(loaded_zip['rand_mat2'])\n",
    "\n",
    "new_array  = loaded_zip['rand_mat']\n",
    "print(new_array)"
   ]
  },
  {
   "cell_type": "code",
   "execution_count": 35,
   "metadata": {},
   "outputs": [
    {
     "name": "stdout",
     "output_type": "stream",
     "text": [
      "[[3.         3.         3.         0.02110896 0.05133451]\n",
      " [3.         3.         3.         0.         0.        ]\n",
      " [0.43330101 0.06016668 0.8543437  0.         0.        ]\n",
      " [0.36714662 0.93693197 0.89404087 0.86315755 0.38816278]\n",
      " [0.64814517 0.761626   0.84733851 0.9292506  0.55551853]]\n",
      "\n",
      "[[3.         3.         3.         0.02110896 0.05133451]\n",
      " [3.         3.         3.         0.         0.        ]\n",
      " [0.43330101 0.06016668 0.8543437  0.         0.        ]\n",
      " [0.36714662 0.93693197 0.89404087 0.86315755 0.38816278]\n",
      " [0.64814517 0.761626   0.84733851 0.9292506  0.55551853]]\n"
     ]
    }
   ],
   "source": [
    "# we can also save/load as text files...but only single variables\n",
    "np.savetxt('text_file_name.txt',rand_mat,delimiter=',')\n",
    "rand_mat_txt = np.loadtxt('text_file_name.txt',delimiter=',')\n",
    "print(rand_mat)\n",
    "print('')\n",
    "print(rand_mat_txt)"
   ]
  },
  {
   "cell_type": "code",
   "execution_count": null,
   "metadata": {},
   "outputs": [],
   "source": []
  }
 ],
 "metadata": {
  "kernelspec": {
   "display_name": "Python 3",
   "language": "python",
   "name": "python3"
  },
  "language_info": {
   "codemirror_mode": {
    "name": "ipython",
    "version": 3
   },
   "file_extension": ".py",
   "mimetype": "text/x-python",
   "name": "python",
   "nbconvert_exporter": "python",
   "pygments_lexer": "ipython3",
   "version": "3.7.4"
  }
 },
 "nbformat": 4,
 "nbformat_minor": 2
}
